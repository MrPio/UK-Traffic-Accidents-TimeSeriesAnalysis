{
 "cells": [
  {
   "cell_type": "code",
   "execution_count": 45,
   "metadata": {},
   "outputs": [],
   "source": [
    "import pandas as pd\n",
    "import numpy as np\n",
    "import seaborn as sns\n",
    "import matplotlib.pyplot as plt\n",
    "from matplotlib.ticker import FuncFormatter\n",
    "import os"
   ]
  },
  {
   "cell_type": "markdown",
   "metadata": {},
   "source": [
    "# Time series analysis\n",
    "In this analysis we aim to predict the `number of accidents` and the `severity of the accidents`.\n",
    "\n",
    "## Setting up the dataset\n",
    "It is our intention to create a \"found\" time series, that is a dataset which is properly cleaned and structured to work with state of the art time series analysis algorithms. The reason for this is that our original Kaggle dataset was not intended to be used for time series analysis and was therefore not organized as such.\n",
    "\n",
    "In the following, we'll look at the main problems with this dataset, before outlining the strategy we've developed to address them.\n",
    "\n",
    "### The problem of a messy dataset\n",
    "The reader should bear in mind that the dataset used is a *government dataset*. As such, due to politics, budgets and other exogenous considerations, missing and inaccurate values, incomplete rows and discontinuities should be expected.\n",
    "\n",
    "And that's not even the half of it. Given the nature of the dataset we should expect the *time discounting* phenomenom to hinder the accuracy of the recorded information. More specifically, as this is an accident-related dataset, the event is recorded after the intervention of a traffic officer and after a report has been written. This means that the timestamp of the registration is likely to be distant from the timestamp of the accident, and details outside the report may be misreported, due to the *time discounting* phenomenom.\n",
    "\n",
    "### The problem of daylight savings time\n",
    "<p align=\"center\">\n",
    "    <img src=\"img/time_zone.png\" width=\"60%\"/>\n",
    "</p>\n",
    "\n",
    "As the dataset is based on accidents that took place in the United Kingdom, the problem of time zone mismatch does not arise. In fact, the whole country is in the UTC time zone, so not only do we not have to worry about multiple time zones based on latitude and longitude values, but also we have equivalence between UTC and the local time zone.\n",
    "\n",
    "However, there's still the problem of daylight savings time, which causes some instants to occur twice a year and others to not exist at all.\n",
    "\n",
    "<!-- \n",
    "- time discounting, huge dataset => downsample with aggregation, timestamp should prevent lookahead\n",
    "- daylight savings => needs investigation, however we don't care due to the aggregation\n",
    "- utc (photo), fortunatly\n",
    "- null values?\n",
    "-->"
   ]
  },
  {
   "cell_type": "code",
   "execution_count": 2,
   "metadata": {},
   "outputs": [],
   "source": [
    "DATASET_NAME='Accident_Information.csv'"
   ]
  },
  {
   "cell_type": "code",
   "execution_count": 3,
   "metadata": {},
   "outputs": [],
   "source": [
    "df_original = pd.read_csv(os.path.join('../dataset', DATASET_NAME), low_memory=False)"
   ]
  },
  {
   "cell_type": "code",
   "execution_count": 78,
   "metadata": {},
   "outputs": [],
   "source": [
    "df = (\n",
    "    df_original[['Accident_Severity', 'Date', 'Time']]\n",
    "    .assign(timestamp=pd.to_datetime(df_original['Date'] + ' ' + df_original['Time']))\n",
    "    .drop(columns=['Date', 'Time'])\n",
    ")"
   ]
  },
  {
   "cell_type": "code",
   "execution_count": 79,
   "metadata": {},
   "outputs": [
    {
     "data": {
      "text/plain": [
       "('Original size = 66.38 MB', 'Pruned size = 3.90 MB')"
      ]
     },
     "execution_count": 79,
     "metadata": {},
     "output_type": "execute_result"
    }
   ],
   "source": [
    "f'Original size = {df_original.size/1024 **\n",
    "                   2:.2f} MB', f'Pruned size = {df.size/1024**2:.2f} MB'"
   ]
  },
  {
   "cell_type": "code",
   "execution_count": 80,
   "metadata": {},
   "outputs": [
    {
     "name": "stdout",
     "output_type": "stream",
     "text": [
      "156 rows have a null value, so I remove them\n"
     ]
    }
   ],
   "source": [
    "print(f'{len(df[df.isnull().any(axis=1)])\n",
    "         } rows have a null value, so I remove them')\n",
    "df = df.dropna()"
   ]
  },
  {
   "cell_type": "code",
   "execution_count": 82,
   "metadata": {},
   "outputs": [
    {
     "data": {
      "text/html": [
       "<div>\n",
       "<style scoped>\n",
       "    .dataframe tbody tr th:only-of-type {\n",
       "        vertical-align: middle;\n",
       "    }\n",
       "\n",
       "    .dataframe tbody tr th {\n",
       "        vertical-align: top;\n",
       "    }\n",
       "\n",
       "    .dataframe thead th {\n",
       "        text-align: right;\n",
       "    }\n",
       "</style>\n",
       "<table border=\"1\" class=\"dataframe\">\n",
       "  <thead>\n",
       "    <tr style=\"text-align: right;\">\n",
       "      <th></th>\n",
       "      <th>timestamp</th>\n",
       "    </tr>\n",
       "  </thead>\n",
       "  <tbody>\n",
       "    <tr>\n",
       "      <th>count</th>\n",
       "      <td>2047100</td>\n",
       "    </tr>\n",
       "    <tr>\n",
       "      <th>mean</th>\n",
       "      <td>2011-01-13 08:48:15.167358720</td>\n",
       "    </tr>\n",
       "    <tr>\n",
       "      <th>min</th>\n",
       "      <td>2005-01-01 00:01:00</td>\n",
       "    </tr>\n",
       "    <tr>\n",
       "      <th>25%</th>\n",
       "      <td>2007-09-08 20:11:45</td>\n",
       "    </tr>\n",
       "    <tr>\n",
       "      <th>50%</th>\n",
       "      <td>2010-10-10 00:06:30</td>\n",
       "    </tr>\n",
       "    <tr>\n",
       "      <th>75%</th>\n",
       "      <td>2014-04-18 10:04:15</td>\n",
       "    </tr>\n",
       "    <tr>\n",
       "      <th>max</th>\n",
       "      <td>2017-12-31 23:31:00</td>\n",
       "    </tr>\n",
       "  </tbody>\n",
       "</table>\n",
       "</div>"
      ],
      "text/plain": [
       "                           timestamp\n",
       "count                        2047100\n",
       "mean   2011-01-13 08:48:15.167358720\n",
       "min              2005-01-01 00:01:00\n",
       "25%              2007-09-08 20:11:45\n",
       "50%              2010-10-10 00:06:30\n",
       "75%              2014-04-18 10:04:15\n",
       "max              2017-12-31 23:31:00"
      ]
     },
     "execution_count": 82,
     "metadata": {},
     "output_type": "execute_result"
    }
   ],
   "source": [
    "df.describe()"
   ]
  },
  {
   "cell_type": "code",
   "execution_count": 76,
   "metadata": {},
   "outputs": [
    {
     "name": "stderr",
     "output_type": "stream",
     "text": [
      "/tmp/ipykernel_44503/1712328572.py:6: FutureWarning: \n",
      "\n",
      "Passing `palette` without assigning `hue` is deprecated and will be removed in v0.14.0. Assign the `x` variable to `hue` and set `legend=False` for the same effect.\n",
      "\n",
      "  sns.barplot(x=value_counts.index, y=value_counts.values, palette='Blues_r')\n",
      "No artists with labels found to put in legend.  Note that artists whose label start with an underscore are ignored when legend() is called with no argument.\n"
     ]
    },
    {
     "data": {
      "image/png": "[encoded data removed]",
      "text/plain": [
       "<Figure size 2000x400 with 1 Axes>"
      ]
     },
     "metadata": {},
     "output_type": "display_data"
    }
   ],
   "source": [
    "df = df.sort_values(by='timestamp')\n",
    "df['step'] = (df['timestamp'].diff().dt.total_seconds() / 60).fillna(0)\n",
    "value_counts = df[df['step'] <= 15]['step'].value_counts().sort_index()\n",
    "\n",
    "plt.figure(figsize=(20, 4))\n",
    "sns.barplot(x=value_counts.index, y=value_counts.values, palette='Blues_r')\n",
    "plt.gca().xaxis.set_major_formatter(FuncFormatter(lambda x, _: f'{int(x)}'))\n",
    "plt.gca().yaxis.set_major_formatter(FuncFormatter(lambda y, _: f'{y:.1e}'))\n",
    "plt.title('The distribution of the lag between subsequent samples')\n",
    "plt.xlabel('Sampling lag')\n",
    "plt.ylabel('Occurrence')\n",
    "plt.legend()\n",
    "plt.show()"
   ]
  },
  {
   "cell_type": "code",
   "execution_count": 77,
   "metadata": {},
   "outputs": [
    {
     "data": {
      "text/plain": [
       "36.75187665831728"
      ]
     },
     "execution_count": 77,
     "metadata": {},
     "output_type": "execute_result"
    }
   ],
   "source": [
    "len(df[df['step']==0])/len(df)*100"
   ]
  },
  {
   "cell_type": "markdown",
   "metadata": {},
   "source": [
    "Here a new problem arises, a large proportion of the events (36.75%) are less than 1 minute apart in different locations in the UK, whereas the granularity of the recording is 1 minute. This means that these events collapse into a single point in time."
   ]
  },
  {
   "cell_type": "markdown",
   "metadata": {},
   "source": [
    "## Exploratory analysis\n",
    "\n",
    "<!-- \n",
    "- plot of 12 TS 1 for each year, and then 1 for each month\n",
    "- stagionality is additive or multiplicative? Should plot the residuals from the mean\n",
    "- stationarity, Aug Dickey Fuller (and KPSS?)\n",
    "- BoxCox\n",
    "-->"
   ]
  }
 ],
 "metadata": {
  "kernelspec": {
   "display_name": "Python 3",
   "language": "python",
   "name": "python3"
  },
  "language_info": {
   "codemirror_mode": {
    "name": "ipython",
    "version": 3
   },
   "file_extension": ".py",
   "mimetype": "text/x-python",
   "name": "python",
   "nbconvert_exporter": "python",
   "pygments_lexer": "ipython3",
   "version": "3.12.3"
  }
 },
 "nbformat": 4,
 "nbformat_minor": 2
}
